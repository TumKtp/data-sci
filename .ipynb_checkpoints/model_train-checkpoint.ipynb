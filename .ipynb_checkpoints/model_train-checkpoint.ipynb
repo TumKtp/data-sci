{
 "cells": [
  {
   "cell_type": "code",
   "execution_count": 344,
   "id": "present-chile",
   "metadata": {},
   "outputs": [],
   "source": [
    "import pandas as pd\n",
    "import sklearn as sk\n",
    "\n",
    "def print_heat_map(dataframe):\n",
    "    print(sns.heatmap(dataframe.corr()))\n",
    "    return dataframe.corr()"
   ]
  },
  {
   "cell_type": "code",
   "execution_count": 345,
   "id": "extraordinary-sheriff",
   "metadata": {},
   "outputs": [],
   "source": [
    "df = pd.read_csv(r'./datascience-full.csv',sep=';')\n",
    "df = df.drop(columns=['day','month'])\n",
    "df['y'] = df['y'].replace({'yes': 1, 'no': 0})\n"
   ]
  },
  {
   "cell_type": "code",
   "execution_count": 346,
   "id": "postal-arcade",
   "metadata": {},
   "outputs": [
    {
     "data": {
      "text/html": [
       "<div>\n",
       "<style scoped>\n",
       "    .dataframe tbody tr th:only-of-type {\n",
       "        vertical-align: middle;\n",
       "    }\n",
       "\n",
       "    .dataframe tbody tr th {\n",
       "        vertical-align: top;\n",
       "    }\n",
       "\n",
       "    .dataframe thead th {\n",
       "        text-align: right;\n",
       "    }\n",
       "</style>\n",
       "<table border=\"1\" class=\"dataframe\">\n",
       "  <thead>\n",
       "    <tr style=\"text-align: right;\">\n",
       "      <th></th>\n",
       "      <th>age</th>\n",
       "      <th>job</th>\n",
       "      <th>marital</th>\n",
       "      <th>education</th>\n",
       "      <th>default</th>\n",
       "      <th>balance</th>\n",
       "      <th>housing</th>\n",
       "      <th>loan</th>\n",
       "      <th>contact</th>\n",
       "      <th>duration</th>\n",
       "      <th>campaign</th>\n",
       "      <th>pdays</th>\n",
       "      <th>previous</th>\n",
       "      <th>poutcome</th>\n",
       "      <th>y</th>\n",
       "    </tr>\n",
       "  </thead>\n",
       "  <tbody>\n",
       "    <tr>\n",
       "      <th>0</th>\n",
       "      <td>58</td>\n",
       "      <td>management</td>\n",
       "      <td>married</td>\n",
       "      <td>tertiary</td>\n",
       "      <td>no</td>\n",
       "      <td>2143</td>\n",
       "      <td>yes</td>\n",
       "      <td>no</td>\n",
       "      <td>unknown</td>\n",
       "      <td>261</td>\n",
       "      <td>1</td>\n",
       "      <td>-1</td>\n",
       "      <td>0</td>\n",
       "      <td>unknown</td>\n",
       "      <td>0</td>\n",
       "    </tr>\n",
       "    <tr>\n",
       "      <th>1</th>\n",
       "      <td>44</td>\n",
       "      <td>technician</td>\n",
       "      <td>single</td>\n",
       "      <td>secondary</td>\n",
       "      <td>no</td>\n",
       "      <td>29</td>\n",
       "      <td>yes</td>\n",
       "      <td>no</td>\n",
       "      <td>unknown</td>\n",
       "      <td>151</td>\n",
       "      <td>1</td>\n",
       "      <td>-1</td>\n",
       "      <td>0</td>\n",
       "      <td>unknown</td>\n",
       "      <td>0</td>\n",
       "    </tr>\n",
       "    <tr>\n",
       "      <th>2</th>\n",
       "      <td>33</td>\n",
       "      <td>entrepreneur</td>\n",
       "      <td>married</td>\n",
       "      <td>secondary</td>\n",
       "      <td>no</td>\n",
       "      <td>2</td>\n",
       "      <td>yes</td>\n",
       "      <td>yes</td>\n",
       "      <td>unknown</td>\n",
       "      <td>76</td>\n",
       "      <td>1</td>\n",
       "      <td>-1</td>\n",
       "      <td>0</td>\n",
       "      <td>unknown</td>\n",
       "      <td>0</td>\n",
       "    </tr>\n",
       "    <tr>\n",
       "      <th>3</th>\n",
       "      <td>47</td>\n",
       "      <td>blue-collar</td>\n",
       "      <td>married</td>\n",
       "      <td>unknown</td>\n",
       "      <td>no</td>\n",
       "      <td>1506</td>\n",
       "      <td>yes</td>\n",
       "      <td>no</td>\n",
       "      <td>unknown</td>\n",
       "      <td>92</td>\n",
       "      <td>1</td>\n",
       "      <td>-1</td>\n",
       "      <td>0</td>\n",
       "      <td>unknown</td>\n",
       "      <td>0</td>\n",
       "    </tr>\n",
       "    <tr>\n",
       "      <th>4</th>\n",
       "      <td>33</td>\n",
       "      <td>unknown</td>\n",
       "      <td>single</td>\n",
       "      <td>unknown</td>\n",
       "      <td>no</td>\n",
       "      <td>1</td>\n",
       "      <td>no</td>\n",
       "      <td>no</td>\n",
       "      <td>unknown</td>\n",
       "      <td>198</td>\n",
       "      <td>1</td>\n",
       "      <td>-1</td>\n",
       "      <td>0</td>\n",
       "      <td>unknown</td>\n",
       "      <td>0</td>\n",
       "    </tr>\n",
       "  </tbody>\n",
       "</table>\n",
       "</div>"
      ],
      "text/plain": [
       "   age           job  marital  education default  balance housing loan  \\\n",
       "0   58    management  married   tertiary      no     2143     yes   no   \n",
       "1   44    technician   single  secondary      no       29     yes   no   \n",
       "2   33  entrepreneur  married  secondary      no        2     yes  yes   \n",
       "3   47   blue-collar  married    unknown      no     1506     yes   no   \n",
       "4   33       unknown   single    unknown      no        1      no   no   \n",
       "\n",
       "   contact  duration  campaign  pdays  previous poutcome  y  \n",
       "0  unknown       261         1     -1         0  unknown  0  \n",
       "1  unknown       151         1     -1         0  unknown  0  \n",
       "2  unknown        76         1     -1         0  unknown  0  \n",
       "3  unknown        92         1     -1         0  unknown  0  \n",
       "4  unknown       198         1     -1         0  unknown  0  "
      ]
     },
     "execution_count": 346,
     "metadata": {},
     "output_type": "execute_result"
    }
   ],
   "source": [
    "df.head()\n",
    "# One-hot encoding -> job, marital, contact, default, housing, loan, poutcome\n",
    "# Label encoding -> education\n",
    "# Remove day, month"
   ]
  },
  {
   "cell_type": "code",
   "execution_count": 347,
   "id": "macro-textbook",
   "metadata": {},
   "outputs": [
    {
     "data": {
      "text/plain": [
       "poutcome\n",
       "unknown     36959\n",
       "failure      4901\n",
       "other        1840\n",
       "success      1511\n",
       "dtype: int64"
      ]
     },
     "execution_count": 347,
     "metadata": {},
     "output_type": "execute_result"
    }
   ],
   "source": [
    "df[['poutcome']].value_counts()"
   ]
  },
  {
   "cell_type": "code",
   "execution_count": 348,
   "id": "solid-december",
   "metadata": {},
   "outputs": [
    {
     "name": "stdout",
     "output_type": "stream",
     "text": [
      "       age          job   marital  education default  balance housing loan  \\\n",
      "25      44       admin.   married  secondary      no     -372     yes   no   \n",
      "28      46   management    single  secondary      no     -246     yes   no   \n",
      "36      25  blue-collar   married  secondary      no       -7     yes   no   \n",
      "37      53   technician   married  secondary      no       -3      no   no   \n",
      "45      36       admin.    single    primary      no     -171     yes   no   \n",
      "...    ...          ...       ...        ...     ...      ...     ...  ...   \n",
      "44626   31     services    single  secondary      no     -205      no   no   \n",
      "44629   28  blue-collar    single  secondary      no      -46     yes   no   \n",
      "44836   33  blue-collar   married    primary      no     -195      no   no   \n",
      "44908   48   management  divorced   tertiary      no     -130     yes   no   \n",
      "44964   21  blue-collar    single    primary      no      -42      no   no   \n",
      "\n",
      "        contact  duration  campaign  pdays  previous poutcome  y  \n",
      "25      unknown       172         1     -1         0  unknown  0  \n",
      "28      unknown       255         2     -1         0  unknown  0  \n",
      "36      unknown       365         1     -1         0  unknown  0  \n",
      "37      unknown      1666         1     -1         0  unknown  0  \n",
      "45      unknown       242         1     -1         0  unknown  0  \n",
      "...         ...       ...       ...    ...       ...      ... ..  \n",
      "44626  cellular       481         1    579         1  failure  1  \n",
      "44629  cellular       199         1     92        14  success  1  \n",
      "44836   unknown         9         1     -1         0  unknown  0  \n",
      "44908  cellular       110         2     61         9  failure  0  \n",
      "44964   unknown         5         1     -1         0  unknown  0  \n",
      "\n",
      "[3766 rows x 15 columns]\n"
     ]
    }
   ],
   "source": [
    "df = df[df['balance'] >= 0]\n",
    "print(test)"
   ]
  },
  {
   "cell_type": "code",
   "execution_count": 349,
   "id": "documentary-honolulu",
   "metadata": {},
   "outputs": [
    {
     "name": "stdout",
     "output_type": "stream",
     "text": [
      "                age        balance      duration      campaign         pdays  \\\n",
      "count  41445.000000   41445.000000  41445.000000  41445.000000  41445.000000   \n",
      "mean      41.068500    1514.924744    258.714344      2.749041     40.641597   \n",
      "std       10.738871    3133.829437    258.172195      3.061182    100.132497   \n",
      "min       18.000000       0.000000      0.000000      1.000000     -1.000000   \n",
      "25%       33.000000     146.000000    103.000000      1.000000     -1.000000   \n",
      "50%       39.000000     542.000000    180.000000      2.000000     -1.000000   \n",
      "75%       49.000000    1596.000000    320.000000      3.000000     -1.000000   \n",
      "max       95.000000  102127.000000   4918.000000     63.000000    871.000000   \n",
      "\n",
      "           previous             y  \n",
      "count  41445.000000  41445.000000  \n",
      "mean       0.596091      0.122548  \n",
      "std        2.355774      0.327922  \n",
      "min        0.000000      0.000000  \n",
      "25%        0.000000      0.000000  \n",
      "50%        0.000000      0.000000  \n",
      "75%        0.000000      0.000000  \n",
      "max      275.000000      1.000000  \n",
      "AxesSubplot(0.125,0.125;0.62x0.755)\n"
     ]
    },
    {
     "data": {
      "text/html": [
       "<div>\n",
       "<style scoped>\n",
       "    .dataframe tbody tr th:only-of-type {\n",
       "        vertical-align: middle;\n",
       "    }\n",
       "\n",
       "    .dataframe tbody tr th {\n",
       "        vertical-align: top;\n",
       "    }\n",
       "\n",
       "    .dataframe thead th {\n",
       "        text-align: right;\n",
       "    }\n",
       "</style>\n",
       "<table border=\"1\" class=\"dataframe\">\n",
       "  <thead>\n",
       "    <tr style=\"text-align: right;\">\n",
       "      <th></th>\n",
       "      <th>age</th>\n",
       "      <th>balance</th>\n",
       "      <th>duration</th>\n",
       "      <th>campaign</th>\n",
       "      <th>pdays</th>\n",
       "      <th>previous</th>\n",
       "      <th>y</th>\n",
       "    </tr>\n",
       "  </thead>\n",
       "  <tbody>\n",
       "    <tr>\n",
       "      <th>age</th>\n",
       "      <td>1.000000</td>\n",
       "      <td>0.095954</td>\n",
       "      <td>-0.003220</td>\n",
       "      <td>0.004398</td>\n",
       "      <td>-0.025158</td>\n",
       "      <td>0.000692</td>\n",
       "      <td>0.025380</td>\n",
       "    </tr>\n",
       "    <tr>\n",
       "      <th>balance</th>\n",
       "      <td>0.095954</td>\n",
       "      <td>1.000000</td>\n",
       "      <td>0.021400</td>\n",
       "      <td>-0.012780</td>\n",
       "      <td>0.000736</td>\n",
       "      <td>0.013281</td>\n",
       "      <td>0.044895</td>\n",
       "    </tr>\n",
       "    <tr>\n",
       "      <th>duration</th>\n",
       "      <td>-0.003220</td>\n",
       "      <td>0.021400</td>\n",
       "      <td>1.000000</td>\n",
       "      <td>-0.083128</td>\n",
       "      <td>-0.001207</td>\n",
       "      <td>0.001007</td>\n",
       "      <td>0.388242</td>\n",
       "    </tr>\n",
       "    <tr>\n",
       "      <th>campaign</th>\n",
       "      <td>0.004398</td>\n",
       "      <td>-0.012780</td>\n",
       "      <td>-0.083128</td>\n",
       "      <td>1.000000</td>\n",
       "      <td>-0.090002</td>\n",
       "      <td>-0.032894</td>\n",
       "      <td>-0.075629</td>\n",
       "    </tr>\n",
       "    <tr>\n",
       "      <th>pdays</th>\n",
       "      <td>-0.025158</td>\n",
       "      <td>0.000736</td>\n",
       "      <td>-0.001207</td>\n",
       "      <td>-0.090002</td>\n",
       "      <td>1.000000</td>\n",
       "      <td>0.447706</td>\n",
       "      <td>0.107471</td>\n",
       "    </tr>\n",
       "    <tr>\n",
       "      <th>previous</th>\n",
       "      <td>0.000692</td>\n",
       "      <td>0.013281</td>\n",
       "      <td>0.001007</td>\n",
       "      <td>-0.032894</td>\n",
       "      <td>0.447706</td>\n",
       "      <td>1.000000</td>\n",
       "      <td>0.094217</td>\n",
       "    </tr>\n",
       "    <tr>\n",
       "      <th>y</th>\n",
       "      <td>0.025380</td>\n",
       "      <td>0.044895</td>\n",
       "      <td>0.388242</td>\n",
       "      <td>-0.075629</td>\n",
       "      <td>0.107471</td>\n",
       "      <td>0.094217</td>\n",
       "      <td>1.000000</td>\n",
       "    </tr>\n",
       "  </tbody>\n",
       "</table>\n",
       "</div>"
      ],
      "text/plain": [
       "               age   balance  duration  campaign     pdays  previous         y\n",
       "age       1.000000  0.095954 -0.003220  0.004398 -0.025158  0.000692  0.025380\n",
       "balance   0.095954  1.000000  0.021400 -0.012780  0.000736  0.013281  0.044895\n",
       "duration -0.003220  0.021400  1.000000 -0.083128 -0.001207  0.001007  0.388242\n",
       "campaign  0.004398 -0.012780 -0.083128  1.000000 -0.090002 -0.032894 -0.075629\n",
       "pdays    -0.025158  0.000736 -0.001207 -0.090002  1.000000  0.447706  0.107471\n",
       "previous  0.000692  0.013281  0.001007 -0.032894  0.447706  1.000000  0.094217\n",
       "y         0.025380  0.044895  0.388242 -0.075629  0.107471  0.094217  1.000000"
      ]
     },
     "execution_count": 349,
     "metadata": {},
     "output_type": "execute_result"
    },
    {
     "data": {
      "image/png": "[encoded data removed]",
      "text/plain": [
       "<Figure size 432x288 with 2 Axes>"
      ]
     },
     "metadata": {
      "needs_background": "light"
     },
     "output_type": "display_data"
    }
   ],
   "source": [
    "print(df.describe())\n",
    "print_heat_map(df)"
   ]
  },
  {
   "cell_type": "code",
   "execution_count": 350,
   "id": "annual-cartoon",
   "metadata": {},
   "outputs": [
    {
     "name": "stdout",
     "output_type": "stream",
     "text": [
      "Unique values in column 'job': ['management' 'technician' 'entrepreneur' 'blue-collar' 'unknown'\n",
      " 'retired' 'admin.' 'services' 'self-employed' 'unemployed' 'housemaid'\n",
      " 'student']\n",
      "Unique values in column 'marital': ['married' 'single' 'divorced']\n",
      "Unique values in column 'education': ['tertiary' 'secondary' 'unknown' 'primary']\n",
      "Unique values in column 'default': ['no' 'yes']\n",
      "Unique values in column 'housing': ['yes' 'no']\n",
      "Unique values in column 'loan': ['no' 'yes']\n",
      "Unique values in column 'contact': ['unknown' 'cellular' 'telephone']\n",
      "Unique values in column 'poutcome': ['unknown' 'failure' 'other' 'success']\n"
     ]
    }
   ],
   "source": [
    "for col in df.columns:\n",
    "    if df[col].dtype == 'object':\n",
    "        unique_vals = df[col].unique()\n",
    "        print(f\"Unique values in column '{col}': {unique_vals}\")"
   ]
  },
  {
   "cell_type": "code",
   "execution_count": 351,
   "id": "engaged-israel",
   "metadata": {},
   "outputs": [
    {
     "name": "stdout",
     "output_type": "stream",
     "text": [
      "                age        balance      duration      campaign         pdays  \\\n",
      "count  41445.000000   41445.000000  41445.000000  41445.000000  41445.000000   \n",
      "mean      41.068500    1514.924744    258.714344      2.749041     40.641597   \n",
      "std       10.738871    3133.829437    258.172195      3.061182    100.132497   \n",
      "min       18.000000       0.000000      0.000000      1.000000     -1.000000   \n",
      "25%       33.000000     146.000000    103.000000      1.000000     -1.000000   \n",
      "50%       39.000000     542.000000    180.000000      2.000000     -1.000000   \n",
      "75%       49.000000    1596.000000    320.000000      3.000000     -1.000000   \n",
      "max       95.000000  102127.000000   4918.000000     63.000000    871.000000   \n",
      "\n",
      "           previous             y    job_admin.  job_blue-collar  \\\n",
      "count  41445.000000  41445.000000  41445.000000     41445.000000   \n",
      "mean       0.596091      0.122548      0.112897         0.208035   \n",
      "std        2.355774      0.327922      0.316470         0.405907   \n",
      "min        0.000000      0.000000      0.000000         0.000000   \n",
      "25%        0.000000      0.000000      0.000000         0.000000   \n",
      "50%        0.000000      0.000000      0.000000         0.000000   \n",
      "75%        0.000000      0.000000      0.000000         0.000000   \n",
      "max      275.000000      1.000000      1.000000         1.000000   \n",
      "\n",
      "       job_entrepreneur  ...  marital_divorced  marital_married  \\\n",
      "count      41445.000000  ...      41445.000000     41445.000000   \n",
      "mean           0.033152  ...          0.111738         0.603499   \n",
      "std            0.179036  ...          0.315048         0.489177   \n",
      "min            0.000000  ...          0.000000         0.000000   \n",
      "25%            0.000000  ...          0.000000         0.000000   \n",
      "50%            0.000000  ...          0.000000         1.000000   \n",
      "75%            0.000000  ...          0.000000         1.000000   \n",
      "max            1.000000  ...          1.000000         1.000000   \n",
      "\n",
      "       marital_single  contact_cellular  contact_telephone   default_yes  \\\n",
      "count    41445.000000      41445.000000       41445.000000  41445.000000   \n",
      "mean         0.284763          0.654409           0.067149      0.009048   \n",
      "std          0.451307          0.475566           0.250283      0.094692   \n",
      "min          0.000000          0.000000           0.000000      0.000000   \n",
      "25%          0.000000          0.000000           0.000000      0.000000   \n",
      "50%          0.000000          1.000000           0.000000      0.000000   \n",
      "75%          1.000000          1.000000           0.000000      0.000000   \n",
      "max          1.000000          1.000000           1.000000      1.000000   \n",
      "\n",
      "        housing_yes      loan_yes  poutcome_failure  poutcome_success  \n",
      "count  41445.000000  41445.000000      41445.000000      41445.000000  \n",
      "mean       0.540282      0.145591          0.109953          0.036072  \n",
      "std        0.498381      0.352700          0.312835          0.186471  \n",
      "min        0.000000      0.000000          0.000000          0.000000  \n",
      "25%        0.000000      0.000000          0.000000          0.000000  \n",
      "50%        1.000000      0.000000          0.000000          0.000000  \n",
      "75%        1.000000      0.000000          0.000000          0.000000  \n",
      "max        1.000000      1.000000          1.000000          1.000000  \n",
      "\n",
      "[8 rows x 28 columns]\n"
     ]
    }
   ],
   "source": [
    "one_hot_columns = ['job', 'marital', 'contact', 'default', 'housing', 'loan','poutcome']\n",
    "one_hot_encoded = pd.get_dummies(df[one_hot_columns])\n",
    "# print(one_hot_encoded.describe())\n",
    "after_one_hot_df = pd.concat([df, one_hot_encoded], axis=1)\n",
    "after_one_hot_df = after_one_hot_df.drop(columns=after_one_hot_df.columns[after_one_hot_df.columns.str.contains('_unknown')])\n",
    "after_one_hot_df = after_one_hot_df.drop(columns=after_one_hot_df.columns[after_one_hot_df.columns.str.contains('_no')])\n",
    "after_one_hot_df = after_one_hot_df.drop(columns=after_one_hot_df.columns[after_one_hot_df.columns.str.contains('_other')])\n",
    "after_one_hot_df = after_one_hot_df.drop(columns=one_hot_columns)\n",
    "print(after_one_hot_df.describe())"
   ]
  },
  {
   "cell_type": "code",
   "execution_count": 352,
   "id": "royal-behalf",
   "metadata": {},
   "outputs": [
    {
     "name": "stdout",
     "output_type": "stream",
     "text": [
      "       age  balance  duration  campaign  pdays  previous  job_admin.  \\\n",
      "0       58     2143       261         1     -1         0           0   \n",
      "1       44       29       151         1     -1         0           0   \n",
      "2       33        2        76         1     -1         0           0   \n",
      "3       47     1506        92         1     -1         0           0   \n",
      "4       33        1       198         1     -1         0           0   \n",
      "...    ...      ...       ...       ...    ...       ...         ...   \n",
      "45206   51      825       977         3     -1         0           0   \n",
      "45207   71     1729       456         2     -1         0           0   \n",
      "45208   72     5715      1127         5    184         3           0   \n",
      "45209   57      668       508         4     -1         0           0   \n",
      "45210   37     2971       361         2    188        11           0   \n",
      "\n",
      "       job_blue-collar  job_entrepreneur  job_housemaid  ...  marital_single  \\\n",
      "0                    0                 0              0  ...               0   \n",
      "1                    0                 0              0  ...               1   \n",
      "2                    0                 1              0  ...               0   \n",
      "3                    1                 0              0  ...               0   \n",
      "4                    0                 0              0  ...               1   \n",
      "...                ...               ...            ...  ...             ...   \n",
      "45206                0                 0              0  ...               0   \n",
      "45207                0                 0              0  ...               0   \n",
      "45208                0                 0              0  ...               0   \n",
      "45209                1                 0              0  ...               0   \n",
      "45210                0                 1              0  ...               0   \n",
      "\n",
      "       contact_cellular  contact_telephone  default_yes  housing_yes  \\\n",
      "0                     0                  0            0            1   \n",
      "1                     0                  0            0            1   \n",
      "2                     0                  0            0            1   \n",
      "3                     0                  0            0            1   \n",
      "4                     0                  0            0            0   \n",
      "...                 ...                ...          ...          ...   \n",
      "45206                 1                  0            0            0   \n",
      "45207                 1                  0            0            0   \n",
      "45208                 1                  0            0            0   \n",
      "45209                 0                  1            0            0   \n",
      "45210                 1                  0            0            0   \n",
      "\n",
      "       loan_yes  poutcome_failure  poutcome_success  education_encoded  y  \n",
      "0             0                 0                 0                  3  0  \n",
      "1             0                 0                 0                  2  0  \n",
      "2             1                 0                 0                  2  0  \n",
      "3             0                 0                 0                  0  0  \n",
      "4             0                 0                 0                  0  0  \n",
      "...         ...               ...               ...                ... ..  \n",
      "45206         0                 0                 0                  3  1  \n",
      "45207         0                 0                 0                  1  1  \n",
      "45208         0                 0                 1                  2  1  \n",
      "45209         0                 0                 0                  2  0  \n",
      "45210         0                 0                 0                  2  0  \n",
      "\n",
      "[41445 rows x 29 columns]\n"
     ]
    }
   ],
   "source": [
    "education_order = ['unknown', 'primary', 'secondary', 'tertiary']\n",
    "after_one_hot_df['education_cat'] = pd.Categorical(after_one_hot_df['education'], categories=custom_order, ordered=True)\n",
    "\n",
    "# Encode the 'Grade_Cat' column with label encoding\n",
    "after_one_hot_df['education_encoded'] = after_one_hot_df['education_cat'].cat.codes\n",
    "final_df = after_one_hot_df.drop(columns=['education_cat','education'])\n",
    "final_df = final_df.reindex(columns = [col for col in final_df.columns if col != 'y'] + ['y'])\n",
    "print(final_df)"
   ]
  },
  {
   "cell_type": "code",
   "execution_count": 353,
   "id": "fuzzy-forwarding",
   "metadata": {},
   "outputs": [
    {
     "name": "stdout",
     "output_type": "stream",
     "text": [
      "AxesSubplot(0.125,0.125;0.62x0.755)\n",
      "age                  False\n",
      "balance              False\n",
      "duration              True\n",
      "campaign             False\n",
      "pdays                 True\n",
      "previous             False\n",
      "job_admin.           False\n",
      "job_blue-collar      False\n",
      "job_entrepreneur     False\n",
      "job_housemaid        False\n",
      "job_management       False\n",
      "job_retired          False\n",
      "job_self-employed    False\n",
      "job_services         False\n",
      "job_student          False\n",
      "job_technician       False\n",
      "job_unemployed       False\n",
      "marital_divorced     False\n",
      "marital_married      False\n",
      "marital_single       False\n",
      "contact_cellular      True\n",
      "contact_telephone    False\n",
      "default_yes          False\n",
      "housing_yes           True\n",
      "loan_yes             False\n",
      "poutcome_failure     False\n",
      "poutcome_success      True\n",
      "education_encoded    False\n",
      "y                     True\n",
      "Name: y, dtype: bool\n"
     ]
    },
    {
     "data": {
      "image/png": "[encoded data removed]",
      "text/plain": [
       "<Figure size 432x288 with 2 Axes>"
      ]
     },
     "metadata": {
      "needs_background": "light"
     },
     "output_type": "display_data"
    }
   ],
   "source": [
    "final_df.describe()\n",
    "corr = print_heat_map(final_df)\n",
    "print(abs(corr['y']) > 0.1)"
   ]
  },
  {
   "cell_type": "code",
   "execution_count": null,
   "id": "preceding-differential",
   "metadata": {},
   "outputs": [],
   "source": [
    "\n"
   ]
  },
  {
   "cell_type": "code",
   "execution_count": 354,
   "id": "novel-elimination",
   "metadata": {},
   "outputs": [
    {
     "name": "stdout",
     "output_type": "stream",
     "text": [
      "(29011, 28) (12434, 28) (29011,) (12434,)\n",
      "0    25526\n",
      "1     3485\n",
      "Name: y, dtype: int64\n",
      "0    10840\n",
      "1     1594\n",
      "Name: y, dtype: int64\n"
     ]
    }
   ],
   "source": [
    "import sklearn as sk\n",
    "from sklearn.linear_model import LogisticRegression\n",
    "from sklearn.ensemble import RandomForestClassifier\n",
    "from sklearn.feature_selection import RFE\n",
    "from sklearn.model_selection import train_test_split\n",
    "from sklearn.metrics import classification_report, accuracy_score\n",
    "from operator import itemgetter\n",
    "\n",
    "X = final_df.loc[:,final_df.columns != 'y']\n",
    "y = final_df.loc[:,'y']\n",
    "X_train, X_test, y_train, y_test = train_test_split(X, y, test_size=0.3)\n",
    "print(X_train.shape, X_test.shape, y_train.shape, y_test.shape)\n",
    "print(y_train.value_counts())\n",
    "print(y_test.value_counts())\n",
    "\n",
    "def evaluate(model,feature=3):\n",
    "    rfe = RFE(estimator=model,n_features_to_select=feature)\n",
    "    rfe.fit(X_train,y_train)\n",
    "#     for x, y in (sorted(zip(rfe.ranking_ , X_train.columns), key=itemgetter(0))):\n",
    "#         if(x == 1):\n",
    "#             print(y)\n",
    "    y_pred = rfe.predict(X_test)\n",
    "    print(pd.DataFrame(y_pred).value_counts())\n",
    "    print(classification_report(y_test, y_pred))\n",
    "    return y_pred"
   ]
  },
  {
   "cell_type": "code",
   "execution_count": 260,
   "id": "aquatic-governor",
   "metadata": {},
   "outputs": [
    {
     "name": "stdout",
     "output_type": "stream",
     "text": [
      "0    12571\n",
      "1      993\n",
      "dtype: int64\n",
      "              precision    recall  f1-score   support\n",
      "\n",
      "           0       0.92      0.97      0.94     11964\n",
      "           1       0.61      0.38      0.47      1600\n",
      "\n",
      "    accuracy                           0.90     13564\n",
      "   macro avg       0.77      0.67      0.71     13564\n",
      "weighted avg       0.88      0.90      0.89     13564\n",
      "\n",
      "0.8981863757003834\n",
      "n_estimators: 50, features: 12\n",
      "-----------------------\n",
      "0    12543\n",
      "1     1021\n",
      "dtype: int64\n",
      "              precision    recall  f1-score   support\n",
      "\n",
      "           0       0.92      0.97      0.94     11964\n",
      "           1       0.60      0.38      0.47      1600\n",
      "\n",
      "    accuracy                           0.90     13564\n",
      "   macro avg       0.76      0.67      0.71     13564\n",
      "weighted avg       0.88      0.90      0.89     13564\n",
      "\n",
      "0.8971542317900324\n",
      "n_estimators: 100, features: 12\n",
      "-----------------------\n",
      "0.8981863757003834 n_estimators 50 features 12\n"
     ]
    }
   ],
   "source": [
    "max_acc = 0.0\n",
    "max_i = 0\n",
    "max_j = 0\n",
    "for i in range(50,150,50):\n",
    "    for j in range(12,15,3):\n",
    "        pred = evaluate(RandomForestClassifier(n_estimators=i),j)\n",
    "        score = accuracy_score(y_test, pred)\n",
    "        print(score)\n",
    "        print(\"n_estimators: \" + str(i) + \", features: \" + str(j) )\n",
    "        print(\"-----------------------\")\n",
    "        if(score > max_acc):\n",
    "            max_acc = score\n",
    "            max_i = i\n",
    "            max_j = j\n",
    "print(max_acc,\"n_estimators\",max_i,\"features\",max_j)"
   ]
  },
  {
   "cell_type": "code",
   "execution_count": 262,
   "id": "ranking-content",
   "metadata": {},
   "outputs": [
    {
     "name": "stdout",
     "output_type": "stream",
     "text": [
      "0    12506\n",
      "1     1058\n",
      "dtype: int64\n",
      "              precision    recall  f1-score   support\n",
      "\n",
      "           0       0.92      0.97      0.94     11964\n",
      "           1       0.61      0.41      0.49      1600\n",
      "\n",
      "    accuracy                           0.90     13564\n",
      "   macro avg       0.77      0.69      0.72     13564\n",
      "weighted avg       0.89      0.90      0.89     13564\n",
      "\n",
      "0.8995871424358596\n"
     ]
    }
   ],
   "source": [
    "from xgboost import XGBClassifier\n",
    "pred = evaluate(XGBClassifier(use_label_encoder=False, eval_metric='mlogloss'),15)\n",
    "score = accuracy_score(y_test, pred)\n",
    "print(score)"
   ]
  },
  {
   "cell_type": "code",
   "execution_count": 298,
   "id": "north-nitrogen",
   "metadata": {},
   "outputs": [],
   "source": []
  },
  {
   "cell_type": "code",
   "execution_count": 355,
   "id": "tribal-cheat",
   "metadata": {},
   "outputs": [
    {
     "name": "stdout",
     "output_type": "stream",
     "text": [
      "              precision    recall  f1-score   support\n",
      "\n",
      "           0       0.90      0.98      0.94     10840\n",
      "           1       0.62      0.23      0.33      1594\n",
      "\n",
      "    accuracy                           0.88     12434\n",
      "   macro avg       0.76      0.60      0.63     12434\n",
      "weighted avg       0.86      0.88      0.86     12434\n",
      "\n",
      "0.8826604471610101\n"
     ]
    },
    {
     "name": "stderr",
     "output_type": "stream",
     "text": [
      "/usr/local/lib/python3.9/site-packages/sklearn/linear_model/_logistic.py:763: ConvergenceWarning: lbfgs failed to converge (status=1):\n",
      "STOP: TOTAL NO. of ITERATIONS REACHED LIMIT.\n",
      "\n",
      "Increase the number of iterations (max_iter) or scale the data as shown in:\n",
      "    https://scikit-learn.org/stable/modules/preprocessing.html\n",
      "Please also refer to the documentation for alternative solver options:\n",
      "    https://scikit-learn.org/stable/modules/linear_model.html#logistic-regression\n",
      "  n_iter_i = _check_optimize_result(\n"
     ]
    }
   ],
   "source": [
    "model = LogisticRegression()\n",
    "model.fit(X_train,y_train);\n",
    "pred = model.predict(X_test)\n",
    "print(classification_report(y_test, pred))\n",
    "score = accuracy_score(y_test, pred)\n",
    "print(score)"
   ]
  },
  {
   "cell_type": "code",
   "execution_count": 356,
   "id": "complete-confidentiality",
   "metadata": {},
   "outputs": [
    {
     "name": "stdout",
     "output_type": "stream",
     "text": [
      "              precision    recall  f1-score   support\n",
      "\n",
      "           0       0.91      0.97      0.94     10840\n",
      "           1       0.64      0.35      0.45      1594\n",
      "\n",
      "    accuracy                           0.89     12434\n",
      "   macro avg       0.77      0.66      0.70     12434\n",
      "weighted avg       0.88      0.89      0.88     12434\n",
      "\n",
      "0.8911854592247065\n"
     ]
    }
   ],
   "source": [
    "model = RandomForestClassifier(n_estimators=50)\n",
    "model.fit(X_train,y_train);\n",
    "pred = model.predict(X_test)\n",
    "print(classification_report(y_test, pred))\n",
    "score = accuracy_score(y_test, pred)\n",
    "print(score)"
   ]
  },
  {
   "cell_type": "code",
   "execution_count": 357,
   "id": "intimate-charger",
   "metadata": {},
   "outputs": [
    {
     "name": "stdout",
     "output_type": "stream",
     "text": [
      "              precision    recall  f1-score   support\n",
      "\n",
      "           0       0.92      0.97      0.94     10840\n",
      "           1       0.64      0.40      0.50      1594\n",
      "\n",
      "    accuracy                           0.89     12434\n",
      "   macro avg       0.78      0.68      0.72     12434\n",
      "weighted avg       0.88      0.89      0.88     12434\n",
      "\n",
      "0.8948849927617822\n"
     ]
    }
   ],
   "source": [
    "model = XGBClassifier(use_label_encoder=False,eval_metric='mlogloss',n_estimators=50)\n",
    "model.fit(X_train,y_train);\n",
    "pred = model.predict(X_test)\n",
    "print(classification_report(y_test, pred))\n",
    "score = accuracy_score(y_test, pred)\n",
    "print(score)"
   ]
  },
  {
   "cell_type": "code",
   "execution_count": 358,
   "id": "nonprofit-relay",
   "metadata": {},
   "outputs": [
    {
     "name": "stdout",
     "output_type": "stream",
     "text": [
      "              precision    recall  f1-score   support\n",
      "\n",
      "           0       0.89      0.78      0.83     10840\n",
      "           1       0.19      0.34      0.24      1594\n",
      "\n",
      "    accuracy                           0.73     12434\n",
      "   macro avg       0.54      0.56      0.54     12434\n",
      "weighted avg       0.80      0.73      0.76     12434\n",
      "\n",
      "0.7256715457616214\n"
     ]
    }
   ],
   "source": [
    "from sklearn.neighbors import NearestCentroid\n",
    "model = NearestCentroid()\n",
    "model.fit(X_train,y_train);\n",
    "pred = model.predict(X_test)\n",
    "print(classification_report(y_test, pred))\n",
    "score = accuracy_score(y_test, pred)\n",
    "print(score)"
   ]
  },
  {
   "cell_type": "code",
   "execution_count": 366,
   "id": "persistent-testing",
   "metadata": {},
   "outputs": [
    {
     "data": {
      "image/png": "[encoded data removed]",
      "text/plain": [
       "<Figure size 432x288 with 1 Axes>"
      ]
     },
     "metadata": {
      "needs_background": "light"
     },
     "output_type": "display_data"
    }
   ],
   "source": [
    "import matplotlib.pyplot as plt\n",
    "data = df\n",
    "%matplotlib inline\n",
    "pd.crosstab(data.job,data.y).plot(kind='bar')\n",
    "plt.title('Purchase Frequency for Job Title')\n",
    "plt.xlabel('Job')\n",
    "plt.ylabel('Frequency of Purchase')\n",
    "plt.savefig('purchase_fre_job')"
   ]
  },
  {
   "cell_type": "code",
   "execution_count": 367,
   "id": "silver-candidate",
   "metadata": {},
   "outputs": [
    {
     "data": {
      "image/png": "[encoded data removed]",
      "text/plain": [
       "<Figure size 432x288 with 1 Axes>"
      ]
     },
     "metadata": {
      "needs_background": "light"
     },
     "output_type": "display_data"
    }
   ],
   "source": [
    "table=pd.crosstab(data.marital,data.y)\n",
    "table.div(table.sum(1).astype(float), axis=0).plot(kind='bar', stacked=True)\n",
    "plt.title('Stacked Bar Chart of Marital Status vs Purchase')\n",
    "plt.xlabel('Marital Status')\n",
    "plt.ylabel('Proportion of Customers')\n",
    "plt.savefig('mariral_vs_pur_stack')"
   ]
  },
  {
   "cell_type": "code",
   "execution_count": 368,
   "id": "cross-sheep",
   "metadata": {},
   "outputs": [
    {
     "data": {
      "image/png": "[encoded data removed]",
      "text/plain": [
       "<Figure size 432x288 with 1 Axes>"
      ]
     },
     "metadata": {
      "needs_background": "light"
     },
     "output_type": "display_data"
    }
   ],
   "source": [
    "table=pd.crosstab(data.education,data.y)\n",
    "table.div(table.sum(1).astype(float), axis=0).plot(kind='bar', stacked=True)\n",
    "plt.title('Stacked Bar Chart of Education vs Purchase')\n",
    "plt.xlabel('Education')\n",
    "plt.ylabel('Proportion of Customers')\n",
    "plt.savefig('edu_vs_pur_stack')"
   ]
  },
  {
   "cell_type": "code",
   "execution_count": 369,
   "id": "matched-repeat",
   "metadata": {},
   "outputs": [
    {
     "data": {
      "image/png": "[encoded data removed]",
      "text/plain": [
       "<Figure size 432x288 with 1 Axes>"
      ]
     },
     "metadata": {
      "needs_background": "light"
     },
     "output_type": "display_data"
    }
   ],
   "source": [
    "data.age.hist()\n",
    "plt.title('Histogram of Age')\n",
    "plt.xlabel('Age')\n",
    "plt.ylabel('Frequency')\n",
    "plt.savefig('hist_age')"
   ]
  },
  {
   "cell_type": "code",
   "execution_count": 370,
   "id": "elementary-princess",
   "metadata": {},
   "outputs": [
    {
     "data": {
      "image/png": "[encoded data removed]",
      "text/plain": [
       "<Figure size 432x288 with 1 Axes>"
      ]
     },
     "metadata": {
      "needs_background": "light"
     },
     "output_type": "display_data"
    }
   ],
   "source": [
    "pd.crosstab(data.poutcome,data.y).plot(kind='bar')\n",
    "plt.title('Purchase Frequency for Poutcome')\n",
    "plt.xlabel('Poutcome')\n",
    "plt.ylabel('Frequency of Purchase')\n",
    "plt.savefig('pur_fre_pout_bar')"
   ]
  },
  {
   "cell_type": "code",
   "execution_count": 377,
   "id": "quarterly-southwest",
   "metadata": {},
   "outputs": [
    {
     "data": {
      "image/png": "[encoded data removed]",
      "text/plain": [
       "<Figure size 432x288 with 1 Axes>"
      ]
     },
     "metadata": {
      "needs_background": "light"
     },
     "output_type": "display_data"
    }
   ],
   "source": [
    "table=pd.crosstab(data.poutcome,data.y)\n",
    "table.div(table.sum(1).astype(float), axis=0).plot(kind='bar', stacked=True)\n",
    "plt.title('Stacked Bar Chart of Previous outcome vs Purchase')\n",
    "plt.xlabel('Previous outcome')\n",
    "plt.ylabel('Proportion of Customers')\n",
    "plt.savefig('poutcome_vs_y_stack')"
   ]
  },
  {
   "cell_type": "code",
   "execution_count": 382,
   "id": "extreme-analyst",
   "metadata": {},
   "outputs": [
    {
     "data": {
      "text/plain": [
       "<AxesSubplot:xlabel='contact'>"
      ]
     },
     "execution_count": 382,
     "metadata": {},
     "output_type": "execute_result"
    },
    {
     "data": {
      "image/png": "[encoded data removed]",
      "text/plain": [
       "<Figure size 432x288 with 1 Axes>"
      ]
     },
     "metadata": {
      "needs_background": "light"
     },
     "output_type": "display_data"
    }
   ],
   "source": [
    "table=pd.crosstab(data.contact,data.y)\n",
    "table.div(table.sum(1).astype(float), axis=0).plot(kind='bar', stacked=True)"
   ]
  },
  {
   "cell_type": "code",
   "execution_count": 383,
   "id": "hired-caution",
   "metadata": {},
   "outputs": [
    {
     "data": {
      "text/plain": [
       "<AxesSubplot:xlabel='job'>"
      ]
     },
     "execution_count": 383,
     "metadata": {},
     "output_type": "execute_result"
    },
    {
     "data": {
      "image/png": "[encoded data removed]",
      "text/plain": [
       "<Figure size 432x288 with 1 Axes>"
      ]
     },
     "metadata": {
      "needs_background": "light"
     },
     "output_type": "display_data"
    }
   ],
   "source": [
    "table=pd.crosstab(data.job,data.y)\n",
    "table.div(table.sum(1).astype(float), axis=0).plot(kind='bar', stacked=True)"
   ]
  },
  {
   "cell_type": "code",
   "execution_count": null,
   "id": "requested-central",
   "metadata": {},
   "outputs": [],
   "source": []
  }
 ],
 "metadata": {
  "kernelspec": {
   "display_name": "Python 3",
   "language": "python",
   "name": "python3"
  },
  "language_info": {
   "codemirror_mode": {
    "name": "ipython",
    "version": 3
   },
   "file_extension": ".py",
   "mimetype": "text/x-python",
   "name": "python",
   "nbconvert_exporter": "python",
   "pygments_lexer": "ipython3",
   "version": "3.9.14"
  },
  "vscode": {
   "interpreter": {
    "hash": "397704579725e15f5c7cb49fe5f0341eb7531c82d19f2c29d197e8b64ab5776b"
   }
  }
 },
 "nbformat": 4,
 "nbformat_minor": 5
}
